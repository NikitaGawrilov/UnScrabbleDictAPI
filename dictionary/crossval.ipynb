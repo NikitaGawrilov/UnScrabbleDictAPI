{
 "cells": [
  {
   "cell_type": "code",
   "execution_count": 27,
   "id": "ddd500be-00b3-4778-b6c1-f71605c3034e",
   "metadata": {},
   "outputs": [],
   "source": [
    "from ruwordnet import RuWordNet\n",
    "wn = RuWordNet(filename_or_session='ruwordnet-2021.db')"
   ]
  },
  {
   "cell_type": "code",
   "execution_count": 40,
   "id": "88f66569-1d10-48f0-b4ed-091ada49c19d",
   "metadata": {},
   "outputs": [
    {
     "name": "stdout",
     "output_type": "stream",
     "text": [
      "203425\n",
      "['ЁЖ',\n",
      " 'ЁЖИК',\n",
      " 'ЁЖИСТЫЙ',\n",
      " 'ЁЖИТЬ',\n",
      " 'ЁЖИМЫЙ',\n",
      " 'ЁЖИТЬСЯ',\n",
      " 'ЁЖАЩИЙСЯ',\n",
      " 'ЁЖИВШИЙСЯ',\n",
      " 'ЁКНУТЬ',\n",
      " 'ЁКНУВШИЙ']\n",
      "CPU times: total: 172 ms\n",
      "Wall time: 178 ms\n"
     ]
    }
   ],
   "source": [
    "%%time\n",
    "#fitered_opencorpora.txt\n",
    "from pprint import pp\n",
    "import re\n",
    "\n",
    "lines = []\n",
    "with open(\"fitered_opencorpora.txt\", \"r\", encoding='utf-8') as f:\n",
    "    line = f.readline()\n",
    "    while line:\n",
    "        if line != '\\n' and not line[0].isdigit():\n",
    "            lines.append(line[:-1])\n",
    "        line = f.readline()\n",
    "\n",
    "pp(len(lines))\n",
    "pp(lines[:10])"
   ]
  },
  {
   "cell_type": "code",
   "execution_count": 41,
   "id": "d2ee8581-77fd-4d37-baf6-aeee827c644a",
   "metadata": {},
   "outputs": [],
   "source": [
    "nlines = [re.sub('Ё', 'Е', line) for line in lines]"
   ]
  },
  {
   "cell_type": "code",
   "execution_count": 30,
   "id": "0cca1852-f4d2-4102-8462-c74e44ae496e",
   "metadata": {},
   "outputs": [],
   "source": [
    "def validate(line: str) -> bool:\n",
    "    try:\n",
    "        if wn[line]:\n",
    "            return True\n",
    "    except KeyError:\n",
    "        return False\n",
    "    return False"
   ]
  },
  {
   "cell_type": "code",
   "execution_count": 31,
   "id": "ef487988-8128-4e29-a54d-6c445ade0212",
   "metadata": {},
   "outputs": [
    {
     "name": "stderr",
     "output_type": "stream",
     "text": [
      "100%|█████████████████████████████████████████████████████████████████████████| 203425/203425 [06:29<00:00, 522.70it/s]\n"
     ]
    }
   ],
   "source": [
    "from tqdm import tqdm\n",
    "\n",
    "fil = list(map(validate, tqdm(nlines, position=0, leave=True)))"
   ]
  },
  {
   "cell_type": "code",
   "execution_count": 32,
   "id": "f44593ed-7b7c-485c-90ad-455a2bf365b3",
   "metadata": {},
   "outputs": [
    {
     "name": "stdout",
     "output_type": "stream",
     "text": [
      "203425\n"
     ]
    }
   ],
   "source": [
    "print(len(fil))"
   ]
  },
  {
   "cell_type": "code",
   "execution_count": 42,
   "id": "dc5f8289-138d-4a86-90b5-a6b80f0a8e68",
   "metadata": {},
   "outputs": [
    {
     "name": "stdout",
     "output_type": "stream",
     "text": [
      "56172\n",
      "CPU times: total: 0 ns\n",
      "Wall time: 7.01 ms\n"
     ]
    }
   ],
   "source": [
    "%%time\n",
    "from itertools import compress\n",
    "\n",
    "validated = list(compress(lines, fil))\n",
    "print(len(validated))"
   ]
  },
  {
   "cell_type": "code",
   "execution_count": 43,
   "id": "cc5b4ee0-15f6-4ba3-93c1-8c6fe721ac88",
   "metadata": {},
   "outputs": [],
   "source": [
    "with open(\"validated_dict.txt\", \"w+\", encoding=\"utf-8\") as nf:\n",
    "    nf.writelines(f\"{line}\\n\" for line in validated)"
   ]
  },
  {
   "cell_type": "code",
   "execution_count": null,
   "id": "e29304c6-a5b5-467e-b0be-3824fd11fc67",
   "metadata": {},
   "outputs": [],
   "source": []
  }
 ],
 "metadata": {
  "kernelspec": {
   "display_name": "Python 3 (ipykernel)",
   "language": "python",
   "name": "python3"
  },
  "language_info": {
   "codemirror_mode": {
    "name": "ipython",
    "version": 3
   },
   "file_extension": ".py",
   "mimetype": "text/x-python",
   "name": "python",
   "nbconvert_exporter": "python",
   "pygments_lexer": "ipython3",
   "version": "3.11.0"
  }
 },
 "nbformat": 4,
 "nbformat_minor": 5
}
