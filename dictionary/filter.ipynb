{
 "cells": [
  {
   "cell_type": "code",
   "execution_count": 1,
   "id": "ca8cd821-8589-4cc3-8bce-a7110856b504",
   "metadata": {},
   "outputs": [
    {
     "name": "stdout",
     "output_type": "stream",
     "text": [
      "5138879\n",
      "CPU times: total: 5.95 s\n",
      "Wall time: 6.08 s\n"
     ]
    }
   ],
   "source": [
    "%%time\n",
    "#dict.opcorpora.txt\n",
    "#sample.txt\n",
    "from pprint import pp\n",
    "lines = []\n",
    "with open(\"dict.opcorpora.txt\", \"r\", encoding='utf-8') as f:\n",
    "    line = f.readline()\n",
    "    while line:\n",
    "        if line != '\\n' and not line[0].isdigit(): \n",
    "            lines.append(line[:-1])\n",
    "        line = f.readline()\n",
    "\n",
    "pp(len(lines))"
   ]
  },
  {
   "cell_type": "code",
   "execution_count": 4,
   "id": "53f557ca-cc79-4660-bbc1-85711812f173",
   "metadata": {},
   "outputs": [
    {
     "name": "stdout",
     "output_type": "stream",
     "text": [
      "CPU times: total: 0 ns\n",
      "Wall time: 0 ns\n"
     ]
    }
   ],
   "source": [
    "import re\n",
    "from tqdm import tqdm\n",
    "\n",
    "inf = {\n",
    "    'NOUN' : (['sing', 'nomn'], [\"Abbr\", \"Name\", \"Surn\", \"Patr\", \"Geox\", \"Orgn\", \"Trad\", \"Erro\"]),\n",
    "    'INFN' : ([], [\"Erro\"]),                    \n",
    "    'ADJF' : (['masc', 'sing', 'nomn'], [\"Erro\"]),        \n",
    "    'PRTF' : (['masc', 'sing', 'nomn'], [\"Erro\"]), \n",
    "    'NUMR' : (['nomn'], [\"Erro\"])\n",
    "}\n",
    "    \n",
    "def approve(line: str) -> bool:\n",
    "    features = re.split('\\t|,| ', line)\n",
    "    if not re.match(\"^[А-ЯЁ]*$\", features[0]):\n",
    "        return False\n",
    "    post = features[1]\n",
    "    if post in inf:\n",
    "        return check_features(post, features[2:])\n",
    "    return False\n",
    "\n",
    "def check_features(post: str, feats: list) -> bool:\n",
    "    if ((all(map(lambda f: f in feats, inf[post][0])) if inf[post][0] else True) \n",
    "        and (all(map(lambda f: f not in feats, inf[post][1])) if inf[post][1] else True)):\n",
    "        return True\n",
    "    return False\n"
   ]
  },
  {
   "cell_type": "code",
   "execution_count": 6,
   "id": "d1ceed32-1258-4872-88e1-9f0729ef700b",
   "metadata": {},
   "outputs": [
    {
     "name": "stderr",
     "output_type": "stream",
     "text": [
      "100%|██████████| 5138879/5138879 [00:21<00:00, 235059.43it/s]"
     ]
    },
    {
     "name": "stdout",
     "output_type": "stream",
     "text": [
      "208995\n",
      "CPU times: total: 2.08 s\n",
      "Wall time: 21.9 s\n"
     ]
    },
    {
     "name": "stderr",
     "output_type": "stream",
     "text": [
      "\n"
     ]
    }
   ],
   "source": [
    "%%time\n",
    "filtered = list(filter(approve, tqdm(lines, position=0, leave=True)))\n",
    "print(len(filtered))"
   ]
  },
  {
   "cell_type": "code",
   "execution_count": 13,
   "id": "8dd59146-1427-4362-9cee-2569722b39a2",
   "metadata": {},
   "outputs": [
    {
     "name": "stderr",
     "output_type": "stream",
     "text": [
      "100%|██████████| 208995/208995 [00:00<00:00, 404442.26it/s]"
     ]
    },
    {
     "name": "stdout",
     "output_type": "stream",
     "text": [
      "208995\n",
      "CPU times: total: 141 ms\n",
      "Wall time: 520 ms\n"
     ]
    },
    {
     "name": "stderr",
     "output_type": "stream",
     "text": [
      "\n"
     ]
    }
   ],
   "source": [
    "%%time\n",
    "just_words = list(map(lambda line: re.split('\\t|,| ', line)[0], tqdm(filtered, position=0, leave=True)))\n",
    "print(len(just_words))"
   ]
  },
  {
   "cell_type": "code",
   "execution_count": 14,
   "id": "242da909-1218-4b9c-985f-a2ab2b8e0228",
   "metadata": {},
   "outputs": [
    {
     "name": "stdout",
     "output_type": "stream",
     "text": [
      "203425\n",
      "CPU times: total: 62.5 ms\n",
      "Wall time: 53.1 ms\n"
     ]
    }
   ],
   "source": [
    "%%time\n",
    "no_dupl = list(dict.fromkeys(just_words))\n",
    "print(len(no_dupl))"
   ]
  },
  {
   "cell_type": "code",
   "execution_count": 18,
   "id": "6975f274-c191-4228-9843-1d628f11fa94",
   "metadata": {},
   "outputs": [],
   "source": [
    "with open(\"fitered_opencorpora.txt\", \"w+\", encoding=\"utf-8\") as nf:\n",
    "    nf.writelines(f\"{line}\\n\" for line in no_dupl)"
   ]
  },
  {
   "cell_type": "code",
   "execution_count": null,
   "id": "24c19fac-6d5b-495b-9320-12529cfe719a",
   "metadata": {
    "editable": true,
    "slideshow": {
     "slide_type": ""
    },
    "tags": []
   },
   "outputs": [],
   "source": []
  }
 ],
 "metadata": {
  "kernelspec": {
   "display_name": "Python 3 (ipykernel)",
   "language": "python",
   "name": "python3"
  },
  "language_info": {
   "codemirror_mode": {
    "name": "ipython",
    "version": 3
   },
   "file_extension": ".py",
   "mimetype": "text/x-python",
   "name": "python",
   "nbconvert_exporter": "python",
   "pygments_lexer": "ipython3",
   "version": "3.11.0"
  }
 },
 "nbformat": 4,
 "nbformat_minor": 5
}
