{
 "cells": [
  {
   "cell_type": "code",
   "execution_count": 3,
   "id": "9575fac5-c690-4640-a74e-8b222d7d3567",
   "metadata": {},
   "outputs": [
    {
     "name": "stdout",
     "output_type": "stream",
     "text": [
      "CPU times: total: 14.7 s\n",
      "Wall time: 15.4 s\n"
     ]
    }
   ],
   "source": [
    "%%time\n",
    "import json\n",
    "from bigtree import list_to_tree, print_tree\n",
    "\n",
    "with open('smol_tree.json', 'r', encoding='utf-8') as j:\n",
    "    path_dict = json.load(j)\n",
    "\n",
    "root = list_to_tree(path_dict)\n",
    "#print_tree(root, style=\"rounded\")"
   ]
  },
  {
   "cell_type": "code",
   "execution_count": 88,
   "id": "6807bca4-455f-41ab-b7cc-c2305199f7cd",
   "metadata": {},
   "outputs": [],
   "source": [
    "from bigtree import find_full_path, find_child_by_name, Node\n",
    "\n",
    "def is_word(word: str) -> bool:\n",
    "    if word:\n",
    "        path = '/'.join(['^'] + list(word) + ['$'])\n",
    "        if find_full_path(root, path):\n",
    "            return True\n",
    "        return False\n",
    "    else:\n",
    "        return False\n",
    "\n",
    "def is_word_but_sadistic(base_node: Node, word: str) -> bool:\n",
    "    if word:\n",
    "        child = find_child_by_name(base_node, word[0])\n",
    "        if child:\n",
    "            return is_word_but_sadistic(child, word[1:])\n",
    "        else:\n",
    "            return False\n",
    "    else:\n",
    "        if find_child_by_name(base_node, '$'):\n",
    "            return True\n",
    "        else:\n",
    "            return False\n",
    "\n",
    "def is_start_sadistic(base_node: Node, word: str) -> bool:\n",
    "    if word:\n",
    "        child = find_child_by_name(base_node, word[0])\n",
    "        if child:\n",
    "            return is_start(child, word[1:])\n",
    "        else:\n",
    "            return False\n",
    "    else:\n",
    "        return False\n",
    "\n",
    "def is_start(root: Node, word: str) -> bool:\n",
    "    if word:\n",
    "        path = '/'.join(['^'] + list(word))\n",
    "        if find_full_path(root, path):\n",
    "            return True\n",
    "        return False\n",
    "    else:\n",
    "        return False\n",
    "\n",
    "def climb_tree(root: Node, word: str) -> tuple: # is_start, is_word, leaves\n",
    "    if word:\n",
    "        path = '/'.join(['^'] + list(word))\n",
    "        node = find_full_path(root, path)\n",
    "        return (True if node else False,\n",
    "               True if find_child_by_name(node, '$') else False,\n",
    "               len(list(node.leaves)))\n",
    "    else:\n",
    "        return False, False, 0\n",
    "    "
   ]
  },
  {
   "cell_type": "code",
   "execution_count": 61,
   "id": "afba0953-eacb-4a86-a75d-e3954670ab63",
   "metadata": {},
   "outputs": [
    {
     "name": "stdout",
     "output_type": "stream",
     "text": [
      "False\n",
      "CPU times: total: 0 ns\n",
      "Wall time: 0 ns\n"
     ]
    }
   ],
   "source": [
    "%%time\n",
    "print(is_word('ЖЖ'))"
   ]
  },
  {
   "cell_type": "code",
   "execution_count": 50,
   "id": "96fc6691-f189-4366-8cf4-a9b2fffda42b",
   "metadata": {},
   "outputs": [
    {
     "name": "stdout",
     "output_type": "stream",
     "text": [
      "True\n",
      "CPU times: total: 0 ns\n",
      "Wall time: 0 ns\n"
     ]
    }
   ],
   "source": [
    "%%time\n",
    "print(is_word_but_sadistic(root, 'ТЕРМОСТАБИЛЬНОСТЬ'))"
   ]
  },
  {
   "cell_type": "code",
   "execution_count": 64,
   "id": "f62c5aa2-092e-45a6-951f-4aa826019e08",
   "metadata": {},
   "outputs": [
    {
     "name": "stdout",
     "output_type": "stream",
     "text": [
      "True\n",
      "CPU times: total: 0 ns\n",
      "Wall time: 0 ns\n"
     ]
    }
   ],
   "source": [
    "%%time\n",
    "print(is_start(root, 'П'))"
   ]
  },
  {
   "cell_type": "code",
   "execution_count": 96,
   "id": "11bbf33c-2413-426a-9fa2-c479b773e3ff",
   "metadata": {},
   "outputs": [
    {
     "name": "stdout",
     "output_type": "stream",
     "text": [
      "CPU times: total: 0 ns\n",
      "Wall time: 0 ns\n"
     ]
    },
    {
     "data": {
      "text/plain": [
       "(True, False, 1)"
      ]
     },
     "execution_count": 96,
     "metadata": {},
     "output_type": "execute_result"
    }
   ],
   "source": [
    "%%time\n",
    "climb_tree(root, 'ЖЖ')"
   ]
  },
  {
   "cell_type": "code",
   "execution_count": 91,
   "id": "626fa0f4-ebbf-41ec-9491-fd953f90ef9d",
   "metadata": {},
   "outputs": [
    {
     "data": {
      "text/plain": [
       "371"
      ]
     },
     "execution_count": 91,
     "metadata": {},
     "output_type": "execute_result"
    }
   ],
   "source": [
    "node = find_full_path(root, '^/Ж')\n",
    "len(list(node.leaves))"
   ]
  },
  {
   "cell_type": "code",
   "execution_count": null,
   "id": "921cce8f-5495-48bb-bbc4-6c2ef72c84ee",
   "metadata": {},
   "outputs": [],
   "source": []
  }
 ],
 "metadata": {
  "kernelspec": {
   "display_name": "Python 3 (ipykernel)",
   "language": "python",
   "name": "python3"
  },
  "language_info": {
   "codemirror_mode": {
    "name": "ipython",
    "version": 3
   },
   "file_extension": ".py",
   "mimetype": "text/x-python",
   "name": "python",
   "nbconvert_exporter": "python",
   "pygments_lexer": "ipython3",
   "version": "3.11.0"
  }
 },
 "nbformat": 4,
 "nbformat_minor": 5
}
